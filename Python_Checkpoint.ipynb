{
 "cells": [
  {
   "cell_type": "markdown",
   "metadata": {},
   "source": [
    "## question_1"
   ]
  },
  {
   "cell_type": "code",
   "execution_count": 1,
   "metadata": {},
   "outputs": [
    {
     "name": "stdout",
     "output_type": "stream",
     "text": [
      "[2002, 2009, 2016, 2023, 2037, 2044, 2051, 2058, 2072, 2079, 2086, 2093, 2107, 2114, 2121, 2128, 2142, 2149, 2156, 2163, 2177, 2184, 2191, 2198, 2212, 2219, 2226, 2233, 2247, 2254, 2261, 2268, 2282, 2289, 2296, 2303, 2317, 2324, 2331, 2338, 2352, 2359, 2366, 2373, 2387, 2394, 2401, 2408, 2422, 2429, 2436, 2443, 2457, 2464, 2471, 2478, 2492, 2499, 2506, 2513, 2527, 2534, 2541, 2548, 2562, 2569, 2576, 2583, 2597, 2604, 2611, 2618, 2632, 2639, 2646, 2653, 2667, 2674, 2681, 2688, 2702, 2709, 2716, 2723, 2737, 2744, 2751, 2758, 2772, 2779, 2786, 2793, 2807, 2814, 2821, 2828, 2842, 2849, 2856, 2863, 2877, 2884, 2891, 2898, 2912, 2919, 2926, 2933, 2947, 2954, 2961, 2968, 2982, 2989, 2996, 3003, 3017, 3024, 3031, 3038, 3052, 3059, 3066, 3073, 3087, 3094, 3101, 3108, 3122, 3129, 3136, 3143, 3157, 3164, 3171, 3178, 3192, 3199]\n"
     ]
    }
   ],
   "source": [
    "import numpy as np\n",
    "from math import sqrt\n",
    "#Question 1\n",
    "liste_1=[]\n",
    "for i in range (2000,3201):\n",
    "    if i%7==0 and i%5!=0:\n",
    "        liste_1.append(i)\n",
    "print (liste_1)"
   ]
  },
  {
   "cell_type": "markdown",
   "metadata": {},
   "source": [
    "# question_2"
   ]
  },
  {
   "cell_type": "code",
   "execution_count": 2,
   "metadata": {},
   "outputs": [
    {
     "name": "stdout",
     "output_type": "stream",
     "text": [
      "5\n",
      "120\n"
     ]
    }
   ],
   "source": [
    "tableau={0:1}\n",
    "\n",
    "def fact(x):\n",
    "    if x in tableau:\n",
    "        return tableau[x]\n",
    "    else:\n",
    "        tableau[x]= x* fact(x-1)\n",
    "        return tableau[x]\n",
    "n_1 = int(input())\n",
    "print (fact(n_1))"
   ]
  },
  {
   "cell_type": "markdown",
   "metadata": {},
   "source": [
    "# question_3"
   ]
  },
  {
   "cell_type": "code",
   "execution_count": 3,
   "metadata": {},
   "outputs": [
    {
     "name": "stdout",
     "output_type": "stream",
     "text": [
      "8\n",
      "{1: 1, 2: 4, 3: 9, 4: 16, 5: 25, 6: 36, 7: 49, 8: 64}\n"
     ]
    }
   ],
   "source": [
    "n_2=int(input())\n",
    "dictionnaire={}\n",
    "for j in range (1,n_2+1):\n",
    "    dictionnaire[j]=j*j\n",
    "print (dictionnaire)"
   ]
  },
  {
   "cell_type": "markdown",
   "metadata": {},
   "source": [
    "# question_4"
   ]
  },
  {
   "cell_type": "code",
   "execution_count": 4,
   "metadata": {},
   "outputs": [
    {
     "name": "stdout",
     "output_type": "stream",
     "text": [
      "kitten\n",
      "4\n",
      "kittn\n"
     ]
    }
   ],
   "source": [
    "k=list(input())\n",
    "n =int(input())\n",
    "del k[n]\n",
    "print(\"\".join(k))"
   ]
  },
  {
   "cell_type": "markdown",
   "metadata": {},
   "source": [
    "# question_5"
   ]
  },
  {
   "cell_type": "code",
   "execution_count": 5,
   "metadata": {},
   "outputs": [
    {
     "name": "stdout",
     "output_type": "stream",
     "text": [
      "Original array elements: [[9 6 8 8]\n",
      " [5 6 8 8]]\n",
      "Array to list: [[9, 6, 8, 8], [5, 6, 8, 8]]\n"
     ]
    }
   ],
   "source": [
    "array = np.random.randint(3,10,size=(2,4))\n",
    "print (\"Original array elements:\",array)\n",
    "liste_2=array.tolist()\n",
    "print(\"Array to list:\",liste_2)"
   ]
  },
  {
   "cell_type": "markdown",
   "metadata": {},
   "source": [
    "# question_6"
   ]
  },
  {
   "cell_type": "code",
   "execution_count": 9,
   "metadata": {},
   "outputs": [
    {
     "name": "stdout",
     "output_type": "stream",
     "text": [
      "Original array1:  [2 5 1]\n",
      "Original array2:  [1 9 1]\n",
      "Covariance matrix of the said arrays:  [[ 4.33333333  9.33333333]\n",
      " [ 9.33333333 21.33333333]]\n"
     ]
    }
   ],
   "source": [
    "a=np.random.randint(1,10,size=(3))\n",
    "b=np.random.randint(1,10,size=(3))\n",
    "print(\"Original array1: \",a)\n",
    "print(\"Original array2: \",b)\n",
    "print(\"Covariance matrix of the said arrays: \",np.cov(a,b))"
   ]
  },
  {
   "cell_type": "markdown",
   "metadata": {},
   "source": [
    "# question_7"
   ]
  },
  {
   "cell_type": "code",
   "execution_count": 7,
   "metadata": {},
   "outputs": [
    {
     "name": "stdout",
     "output_type": "stream",
     "text": [
      "100,150,180\n",
      "18,22,24\n"
     ]
    }
   ],
   "source": [
    "c=50\n",
    "h=30\n",
    "fonction=lambda x:sqrt((2 * c* x)/h)\n",
    "liste=input().split(\",\")\n",
    "liste=map(int,liste)\n",
    "liste=map(fonction,liste)\n",
    "liste=map(int,liste)\n",
    "liste=map(str, liste)\n",
    "print(\",\".join(liste))"
   ]
  }
 ],
 "metadata": {
  "kernelspec": {
   "display_name": "Python 3",
   "language": "python",
   "name": "python3"
  },
  "language_info": {
   "codemirror_mode": {
    "name": "ipython",
    "version": 3
   },
   "file_extension": ".py",
   "mimetype": "text/x-python",
   "name": "python",
   "nbconvert_exporter": "python",
   "pygments_lexer": "ipython3",
   "version": "3.7.6"
  }
 },
 "nbformat": 4,
 "nbformat_minor": 4
}
