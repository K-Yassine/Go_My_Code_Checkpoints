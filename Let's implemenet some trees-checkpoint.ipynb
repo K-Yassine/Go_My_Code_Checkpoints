{
 "cells": [
  {
   "cell_type": "code",
   "execution_count": 60,
   "metadata": {},
   "outputs": [
    {
     "data": {
      "text/html": [
       "<div>\n",
       "<style scoped>\n",
       "    .dataframe tbody tr th:only-of-type {\n",
       "        vertical-align: middle;\n",
       "    }\n",
       "\n",
       "    .dataframe tbody tr th {\n",
       "        vertical-align: top;\n",
       "    }\n",
       "\n",
       "    .dataframe thead th {\n",
       "        text-align: right;\n",
       "    }\n",
       "</style>\n",
       "<table border=\"1\" class=\"dataframe\">\n",
       "  <thead>\n",
       "    <tr style=\"text-align: right;\">\n",
       "      <th></th>\n",
       "      <th>Unnamed: 0</th>\n",
       "      <th>PassengerId</th>\n",
       "      <th>Survived</th>\n",
       "      <th>Pclass</th>\n",
       "      <th>Name</th>\n",
       "      <th>Sex</th>\n",
       "      <th>Age</th>\n",
       "      <th>SibSp</th>\n",
       "      <th>Parch</th>\n",
       "      <th>Ticket</th>\n",
       "      <th>Fare</th>\n",
       "      <th>Embarked</th>\n",
       "    </tr>\n",
       "  </thead>\n",
       "  <tbody>\n",
       "    <tr>\n",
       "      <th>0</th>\n",
       "      <td>0</td>\n",
       "      <td>343</td>\n",
       "      <td>0</td>\n",
       "      <td>2</td>\n",
       "      <td>Collander, Mr. Erik Gustaf</td>\n",
       "      <td>1</td>\n",
       "      <td>28.000000</td>\n",
       "      <td>0</td>\n",
       "      <td>0</td>\n",
       "      <td>248740</td>\n",
       "      <td>13.0000</td>\n",
       "      <td>2</td>\n",
       "    </tr>\n",
       "    <tr>\n",
       "      <th>1</th>\n",
       "      <td>1</td>\n",
       "      <td>76</td>\n",
       "      <td>0</td>\n",
       "      <td>3</td>\n",
       "      <td>Moen, Mr. Sigurd Hansen</td>\n",
       "      <td>1</td>\n",
       "      <td>25.000000</td>\n",
       "      <td>0</td>\n",
       "      <td>0</td>\n",
       "      <td>348123</td>\n",
       "      <td>7.6500</td>\n",
       "      <td>2</td>\n",
       "    </tr>\n",
       "    <tr>\n",
       "      <th>2</th>\n",
       "      <td>2</td>\n",
       "      <td>641</td>\n",
       "      <td>0</td>\n",
       "      <td>3</td>\n",
       "      <td>Jensen, Mr. Hans Peder</td>\n",
       "      <td>1</td>\n",
       "      <td>20.000000</td>\n",
       "      <td>0</td>\n",
       "      <td>0</td>\n",
       "      <td>350050</td>\n",
       "      <td>7.8542</td>\n",
       "      <td>2</td>\n",
       "    </tr>\n",
       "    <tr>\n",
       "      <th>3</th>\n",
       "      <td>3</td>\n",
       "      <td>568</td>\n",
       "      <td>0</td>\n",
       "      <td>3</td>\n",
       "      <td>Palsson, Mrs. Nils (Alma Cornelia Berglund)</td>\n",
       "      <td>0</td>\n",
       "      <td>29.000000</td>\n",
       "      <td>0</td>\n",
       "      <td>4</td>\n",
       "      <td>349909</td>\n",
       "      <td>21.0750</td>\n",
       "      <td>2</td>\n",
       "    </tr>\n",
       "    <tr>\n",
       "      <th>4</th>\n",
       "      <td>4</td>\n",
       "      <td>672</td>\n",
       "      <td>0</td>\n",
       "      <td>1</td>\n",
       "      <td>Davidson, Mr. Thornton</td>\n",
       "      <td>1</td>\n",
       "      <td>31.000000</td>\n",
       "      <td>1</td>\n",
       "      <td>0</td>\n",
       "      <td>F.C. 12750</td>\n",
       "      <td>52.0000</td>\n",
       "      <td>2</td>\n",
       "    </tr>\n",
       "    <tr>\n",
       "      <th>...</th>\n",
       "      <td>...</td>\n",
       "      <td>...</td>\n",
       "      <td>...</td>\n",
       "      <td>...</td>\n",
       "      <td>...</td>\n",
       "      <td>...</td>\n",
       "      <td>...</td>\n",
       "      <td>...</td>\n",
       "      <td>...</td>\n",
       "      <td>...</td>\n",
       "      <td>...</td>\n",
       "      <td>...</td>\n",
       "    </tr>\n",
       "    <tr>\n",
       "      <th>884</th>\n",
       "      <td>886</td>\n",
       "      <td>10</td>\n",
       "      <td>1</td>\n",
       "      <td>2</td>\n",
       "      <td>Nasser, Mrs. Nicholas (Adele Achem)</td>\n",
       "      <td>0</td>\n",
       "      <td>14.000000</td>\n",
       "      <td>1</td>\n",
       "      <td>0</td>\n",
       "      <td>237736</td>\n",
       "      <td>30.0708</td>\n",
       "      <td>0</td>\n",
       "    </tr>\n",
       "    <tr>\n",
       "      <th>885</th>\n",
       "      <td>887</td>\n",
       "      <td>61</td>\n",
       "      <td>0</td>\n",
       "      <td>3</td>\n",
       "      <td>Sirayanian, Mr. Orsen</td>\n",
       "      <td>1</td>\n",
       "      <td>22.000000</td>\n",
       "      <td>0</td>\n",
       "      <td>0</td>\n",
       "      <td>2669</td>\n",
       "      <td>7.2292</td>\n",
       "      <td>0</td>\n",
       "    </tr>\n",
       "    <tr>\n",
       "      <th>886</th>\n",
       "      <td>888</td>\n",
       "      <td>535</td>\n",
       "      <td>0</td>\n",
       "      <td>3</td>\n",
       "      <td>Cacic, Miss. Marija</td>\n",
       "      <td>0</td>\n",
       "      <td>30.000000</td>\n",
       "      <td>0</td>\n",
       "      <td>0</td>\n",
       "      <td>315084</td>\n",
       "      <td>8.6625</td>\n",
       "      <td>2</td>\n",
       "    </tr>\n",
       "    <tr>\n",
       "      <th>887</th>\n",
       "      <td>889</td>\n",
       "      <td>102</td>\n",
       "      <td>0</td>\n",
       "      <td>3</td>\n",
       "      <td>Petroff, Mr. Pastcho (\"Pentcho\")</td>\n",
       "      <td>1</td>\n",
       "      <td>29.699118</td>\n",
       "      <td>0</td>\n",
       "      <td>0</td>\n",
       "      <td>349215</td>\n",
       "      <td>7.8958</td>\n",
       "      <td>2</td>\n",
       "    </tr>\n",
       "    <tr>\n",
       "      <th>888</th>\n",
       "      <td>890</td>\n",
       "      <td>428</td>\n",
       "      <td>1</td>\n",
       "      <td>2</td>\n",
       "      <td>Phillips, Miss. Kate Florence (\"Mrs Kate Louis...</td>\n",
       "      <td>0</td>\n",
       "      <td>19.000000</td>\n",
       "      <td>0</td>\n",
       "      <td>0</td>\n",
       "      <td>250655</td>\n",
       "      <td>26.0000</td>\n",
       "      <td>2</td>\n",
       "    </tr>\n",
       "  </tbody>\n",
       "</table>\n",
       "<p>889 rows × 12 columns</p>\n",
       "</div>"
      ],
      "text/plain": [
       "     Unnamed: 0  PassengerId  Survived  Pclass  \\\n",
       "0             0          343         0       2   \n",
       "1             1           76         0       3   \n",
       "2             2          641         0       3   \n",
       "3             3          568         0       3   \n",
       "4             4          672         0       1   \n",
       "..          ...          ...       ...     ...   \n",
       "884         886           10         1       2   \n",
       "885         887           61         0       3   \n",
       "886         888          535         0       3   \n",
       "887         889          102         0       3   \n",
       "888         890          428         1       2   \n",
       "\n",
       "                                                  Name  Sex        Age  SibSp  \\\n",
       "0                           Collander, Mr. Erik Gustaf    1  28.000000      0   \n",
       "1                              Moen, Mr. Sigurd Hansen    1  25.000000      0   \n",
       "2                               Jensen, Mr. Hans Peder    1  20.000000      0   \n",
       "3          Palsson, Mrs. Nils (Alma Cornelia Berglund)    0  29.000000      0   \n",
       "4                               Davidson, Mr. Thornton    1  31.000000      1   \n",
       "..                                                 ...  ...        ...    ...   \n",
       "884                Nasser, Mrs. Nicholas (Adele Achem)    0  14.000000      1   \n",
       "885                              Sirayanian, Mr. Orsen    1  22.000000      0   \n",
       "886                                Cacic, Miss. Marija    0  30.000000      0   \n",
       "887                   Petroff, Mr. Pastcho (\"Pentcho\")    1  29.699118      0   \n",
       "888  Phillips, Miss. Kate Florence (\"Mrs Kate Louis...    0  19.000000      0   \n",
       "\n",
       "     Parch      Ticket     Fare  Embarked  \n",
       "0        0      248740  13.0000         2  \n",
       "1        0      348123   7.6500         2  \n",
       "2        0      350050   7.8542         2  \n",
       "3        4      349909  21.0750         2  \n",
       "4        0  F.C. 12750  52.0000         2  \n",
       "..     ...         ...      ...       ...  \n",
       "884      0      237736  30.0708         0  \n",
       "885      0        2669   7.2292         0  \n",
       "886      0      315084   8.6625         2  \n",
       "887      0      349215   7.8958         2  \n",
       "888      0      250655  26.0000         2  \n",
       "\n",
       "[889 rows x 12 columns]"
      ]
     },
     "execution_count": 60,
     "metadata": {},
     "output_type": "execute_result"
    }
   ],
   "source": [
    "import pandas as pd\n",
    "import numpy as np\n",
    "import seaborn as sns\n",
    "import matplotlib.pyplot as plt\n",
    "from sklearn.preprocessing import LabelEncoder\n",
    "\n",
    "dp=pd.read_csv('new_titanic_dataset.csv',sep=\",\")\n",
    "dp"
   ]
  },
  {
   "cell_type": "code",
   "execution_count": 61,
   "metadata": {},
   "outputs": [
    {
     "name": "stdout",
     "output_type": "stream",
     "text": [
      "<class 'pandas.core.frame.DataFrame'>\n",
      "RangeIndex: 889 entries, 0 to 888\n",
      "Data columns (total 12 columns):\n",
      " #   Column       Non-Null Count  Dtype  \n",
      "---  ------       --------------  -----  \n",
      " 0   Unnamed: 0   889 non-null    int64  \n",
      " 1   PassengerId  889 non-null    int64  \n",
      " 2   Survived     889 non-null    int64  \n",
      " 3   Pclass       889 non-null    int64  \n",
      " 4   Name         889 non-null    object \n",
      " 5   Sex          889 non-null    int64  \n",
      " 6   Age          889 non-null    float64\n",
      " 7   SibSp        889 non-null    int64  \n",
      " 8   Parch        889 non-null    int64  \n",
      " 9   Ticket       889 non-null    object \n",
      " 10  Fare         889 non-null    float64\n",
      " 11  Embarked     889 non-null    int64  \n",
      "dtypes: float64(2), int64(8), object(2)\n",
      "memory usage: 83.5+ KB\n"
     ]
    }
   ],
   "source": [
    "dp.info()"
   ]
  },
  {
   "cell_type": "code",
   "execution_count": 62,
   "metadata": {},
   "outputs": [
    {
     "data": {
      "text/plain": [
       "Unnamed: 0     0\n",
       "PassengerId    0\n",
       "Survived       0\n",
       "Pclass         0\n",
       "Name           0\n",
       "Sex            0\n",
       "Age            0\n",
       "SibSp          0\n",
       "Parch          0\n",
       "Ticket         0\n",
       "Fare           0\n",
       "Embarked       0\n",
       "dtype: int64"
      ]
     },
     "execution_count": 62,
     "metadata": {},
     "output_type": "execute_result"
    }
   ],
   "source": [
    "dp.isnull().sum()"
   ]
  },
  {
   "cell_type": "code",
   "execution_count": 63,
   "metadata": {},
   "outputs": [
    {
     "name": "stdout",
     "output_type": "stream",
     "text": [
      "Total of missing values: 0 values\n"
     ]
    }
   ],
   "source": [
    "print(\"Total of missing values:\",dp.isnull().sum().sum(),\"values\")"
   ]
  },
  {
   "cell_type": "code",
   "execution_count": 64,
   "metadata": {},
   "outputs": [
    {
     "name": "stdout",
     "output_type": "stream",
     "text": [
      "<class 'pandas.core.frame.DataFrame'>\n",
      "RangeIndex: 889 entries, 0 to 888\n",
      "Data columns (total 12 columns):\n",
      " #   Column       Non-Null Count  Dtype  \n",
      "---  ------       --------------  -----  \n",
      " 0   Unnamed: 0   889 non-null    int64  \n",
      " 1   PassengerId  889 non-null    int64  \n",
      " 2   Survived     889 non-null    int64  \n",
      " 3   Pclass       889 non-null    int64  \n",
      " 4   Name         889 non-null    object \n",
      " 5   Sex          889 non-null    int64  \n",
      " 6   Age          889 non-null    float64\n",
      " 7   SibSp        889 non-null    int64  \n",
      " 8   Parch        889 non-null    int64  \n",
      " 9   Ticket       889 non-null    object \n",
      " 10  Fare         889 non-null    float64\n",
      " 11  Embarked     889 non-null    int64  \n",
      "dtypes: float64(2), int64(8), object(2)\n",
      "memory usage: 83.5+ KB\n"
     ]
    }
   ],
   "source": [
    "dp.info()"
   ]
  },
  {
   "cell_type": "markdown",
   "metadata": {},
   "source": [
    "# Splitting the data"
   ]
  },
  {
   "cell_type": "code",
   "execution_count": 65,
   "metadata": {},
   "outputs": [],
   "source": [
    "from sklearn.model_selection import train_test_split\n",
    "from sklearn import tree\n",
    "from sklearn.ensemble import RandomForestClassifier #Importing Random Forest Classifier\n",
    "from sklearn import metrics  # Importing metrics to test accuracy\n",
    "from sklearn.metrics import accuracy_score"
   ]
  },
  {
   "cell_type": "code",
   "execution_count": 66,
   "metadata": {},
   "outputs": [],
   "source": [
    "X=dp[[\"Sex\",\"Age\",\"Pclass\"]]\n",
    "y=dp[\"Survived\"]\n",
    "X_train,X_test,y_train,y_test=train_test_split(X,y,test_size=0.2)"
   ]
  },
  {
   "cell_type": "markdown",
   "metadata": {},
   "source": [
    "# Decision Tree"
   ]
  },
  {
   "cell_type": "code",
   "execution_count": 67,
   "metadata": {},
   "outputs": [],
   "source": [
    "clf = tree.DecisionTreeClassifier()\n",
    "clf = clf.fit(X_train,y_train)"
   ]
  },
  {
   "cell_type": "markdown",
   "metadata": {},
   "source": [
    "### Decision Tree Plot"
   ]
  },
  {
   "cell_type": "code",
   "execution_count": 68,
   "metadata": {},
   "outputs": [
    {
     "data": {
      "text/plain": [
       "[Text(256.35535714285714, 422.8, 'X[0] <= 0.5\\ngini = 0.469\\nsamples = 711\\nvalue = [444, 267]'),\n",
       " Text(111.76071428571429, 398.64, 'X[2] <= 2.5\\ngini = 0.39\\nsamples = 245\\nvalue = [65, 180]'),\n",
       " Text(50.91428571428572, 374.48, 'X[1] <= 2.5\\ngini = 0.108\\nsamples = 140\\nvalue = [8, 132]'),\n",
       " Text(30.857142857142858, 350.32, 'X[2] <= 1.5\\ngini = 0.5\\nsamples = 2\\nvalue = [1, 1]'),\n",
       " Text(24.685714285714287, 326.15999999999997, 'gini = 0.0\\nsamples = 1\\nvalue = [1, 0]'),\n",
       " Text(37.02857142857143, 326.15999999999997, 'gini = 0.0\\nsamples = 1\\nvalue = [0, 1]'),\n",
       " Text(70.97142857142858, 350.32, 'X[1] <= 56.5\\ngini = 0.096\\nsamples = 138\\nvalue = [7, 131]'),\n",
       " Text(49.371428571428574, 326.15999999999997, 'X[1] <= 27.5\\ngini = 0.086\\nsamples = 133\\nvalue = [6, 127]'),\n",
       " Text(24.685714285714287, 302.0, 'X[1] <= 24.5\\ngini = 0.153\\nsamples = 48\\nvalue = [4, 44]'),\n",
       " Text(12.342857142857143, 277.84000000000003, 'X[1] <= 23.5\\ngini = 0.046\\nsamples = 42\\nvalue = [1, 41]'),\n",
       " Text(6.171428571428572, 253.68, 'gini = 0.0\\nsamples = 32\\nvalue = [0, 32]'),\n",
       " Text(18.514285714285716, 253.68, 'X[2] <= 1.5\\ngini = 0.18\\nsamples = 10\\nvalue = [1, 9]'),\n",
       " Text(12.342857142857143, 229.51999999999998, 'gini = 0.0\\nsamples = 5\\nvalue = [0, 5]'),\n",
       " Text(24.685714285714287, 229.51999999999998, 'gini = 0.32\\nsamples = 5\\nvalue = [1, 4]'),\n",
       " Text(37.02857142857143, 277.84000000000003, 'X[2] <= 1.5\\ngini = 0.5\\nsamples = 6\\nvalue = [3, 3]'),\n",
       " Text(30.857142857142858, 253.68, 'gini = 0.0\\nsamples = 1\\nvalue = [1, 0]'),\n",
       " Text(43.2, 253.68, 'X[1] <= 25.5\\ngini = 0.48\\nsamples = 5\\nvalue = [2, 3]'),\n",
       " Text(37.02857142857143, 229.51999999999998, 'gini = 0.0\\nsamples = 2\\nvalue = [0, 2]'),\n",
       " Text(49.371428571428574, 229.51999999999998, 'X[1] <= 26.5\\ngini = 0.444\\nsamples = 3\\nvalue = [2, 1]'),\n",
       " Text(43.2, 205.35999999999999, 'gini = 0.0\\nsamples = 1\\nvalue = [1, 0]'),\n",
       " Text(55.542857142857144, 205.35999999999999, 'gini = 0.5\\nsamples = 2\\nvalue = [1, 1]'),\n",
       " Text(74.05714285714286, 302.0, 'X[1] <= 37.0\\ngini = 0.046\\nsamples = 85\\nvalue = [2, 83]'),\n",
       " Text(67.88571428571429, 277.84000000000003, 'gini = 0.0\\nsamples = 48\\nvalue = [0, 48]'),\n",
       " Text(80.22857142857143, 277.84000000000003, 'X[1] <= 38.5\\ngini = 0.102\\nsamples = 37\\nvalue = [2, 35]'),\n",
       " Text(67.88571428571429, 253.68, 'X[2] <= 1.5\\ngini = 0.444\\nsamples = 3\\nvalue = [1, 2]'),\n",
       " Text(61.714285714285715, 229.51999999999998, 'gini = 0.0\\nsamples = 2\\nvalue = [0, 2]'),\n",
       " Text(74.05714285714286, 229.51999999999998, 'gini = 0.0\\nsamples = 1\\nvalue = [1, 0]'),\n",
       " Text(92.57142857142857, 253.68, 'X[1] <= 49.5\\ngini = 0.057\\nsamples = 34\\nvalue = [1, 33]'),\n",
       " Text(86.4, 229.51999999999998, 'gini = 0.0\\nsamples = 23\\nvalue = [0, 23]'),\n",
       " Text(98.74285714285715, 229.51999999999998, 'X[1] <= 51.0\\ngini = 0.165\\nsamples = 11\\nvalue = [1, 10]'),\n",
       " Text(92.57142857142857, 205.35999999999999, 'X[2] <= 1.5\\ngini = 0.444\\nsamples = 3\\nvalue = [1, 2]'),\n",
       " Text(86.4, 181.2, 'gini = 0.5\\nsamples = 2\\nvalue = [1, 1]'),\n",
       " Text(98.74285714285715, 181.2, 'gini = 0.0\\nsamples = 1\\nvalue = [0, 1]'),\n",
       " Text(104.91428571428573, 205.35999999999999, 'gini = 0.0\\nsamples = 8\\nvalue = [0, 8]'),\n",
       " Text(92.57142857142857, 326.15999999999997, 'X[2] <= 1.5\\ngini = 0.32\\nsamples = 5\\nvalue = [1, 4]'),\n",
       " Text(86.4, 302.0, 'gini = 0.0\\nsamples = 4\\nvalue = [0, 4]'),\n",
       " Text(98.74285714285715, 302.0, 'gini = 0.0\\nsamples = 1\\nvalue = [1, 0]'),\n",
       " Text(172.60714285714286, 374.48, 'X[1] <= 38.5\\ngini = 0.496\\nsamples = 105\\nvalue = [57, 48]'),\n",
       " Text(150.04285714285714, 350.32, 'X[1] <= 14.5\\ngini = 0.5\\nsamples = 94\\nvalue = [47, 47]'),\n",
       " Text(123.42857142857143, 326.15999999999997, 'X[1] <= 5.5\\ngini = 0.375\\nsamples = 16\\nvalue = [12, 4]'),\n",
       " Text(117.25714285714287, 302.0, 'X[1] <= 3.5\\ngini = 0.5\\nsamples = 8\\nvalue = [4, 4]'),\n",
       " Text(111.08571428571429, 277.84000000000003, 'X[1] <= 2.5\\ngini = 0.32\\nsamples = 5\\nvalue = [4, 1]'),\n",
       " Text(104.91428571428573, 253.68, 'gini = 0.375\\nsamples = 4\\nvalue = [3, 1]'),\n",
       " Text(117.25714285714287, 253.68, 'gini = 0.0\\nsamples = 1\\nvalue = [1, 0]'),\n",
       " Text(123.42857142857143, 277.84000000000003, 'gini = 0.0\\nsamples = 3\\nvalue = [0, 3]'),\n",
       " Text(129.6, 302.0, 'gini = 0.0\\nsamples = 8\\nvalue = [8, 0]'),\n",
       " Text(176.65714285714287, 326.15999999999997, 'X[1] <= 16.5\\ngini = 0.495\\nsamples = 78\\nvalue = [35, 43]'),\n",
       " Text(170.4857142857143, 302.0, 'gini = 0.0\\nsamples = 4\\nvalue = [0, 4]'),\n",
       " Text(182.82857142857145, 302.0, 'X[1] <= 21.5\\ngini = 0.499\\nsamples = 74\\nvalue = [35, 39]'),\n",
       " Text(141.94285714285715, 277.84000000000003, 'X[1] <= 19.0\\ngini = 0.473\\nsamples = 13\\nvalue = [8, 5]'),\n",
       " Text(129.6, 253.68, 'X[1] <= 17.5\\ngini = 0.5\\nsamples = 8\\nvalue = [4, 4]'),\n",
       " Text(123.42857142857143, 229.51999999999998, 'gini = 0.5\\nsamples = 2\\nvalue = [1, 1]'),\n",
       " Text(135.77142857142857, 229.51999999999998, 'gini = 0.5\\nsamples = 6\\nvalue = [3, 3]'),\n",
       " Text(154.2857142857143, 253.68, 'X[1] <= 20.5\\ngini = 0.32\\nsamples = 5\\nvalue = [4, 1]'),\n",
       " Text(148.11428571428573, 229.51999999999998, 'gini = 0.0\\nsamples = 2\\nvalue = [2, 0]'),\n",
       " Text(160.45714285714286, 229.51999999999998, 'gini = 0.444\\nsamples = 3\\nvalue = [2, 1]'),\n",
       " Text(223.71428571428572, 277.84000000000003, 'X[1] <= 29.85\\ngini = 0.493\\nsamples = 61\\nvalue = [27, 34]'),\n",
       " Text(178.9714285714286, 253.68, 'X[1] <= 23.0\\ngini = 0.483\\nsamples = 49\\nvalue = [20, 29]'),\n",
       " Text(172.8, 229.51999999999998, 'gini = 0.375\\nsamples = 4\\nvalue = [1, 3]'),\n",
       " Text(185.14285714285714, 229.51999999999998, 'X[1] <= 25.5\\ngini = 0.488\\nsamples = 45\\nvalue = [19, 26]'),\n",
       " Text(169.71428571428572, 205.35999999999999, 'X[1] <= 24.5\\ngini = 0.444\\nsamples = 3\\nvalue = [2, 1]'),\n",
       " Text(163.54285714285714, 181.2, 'gini = 0.5\\nsamples = 2\\nvalue = [1, 1]'),\n",
       " Text(175.8857142857143, 181.2, 'gini = 0.0\\nsamples = 1\\nvalue = [1, 0]'),\n",
       " Text(200.57142857142858, 205.35999999999999, 'X[1] <= 27.5\\ngini = 0.482\\nsamples = 42\\nvalue = [17, 25]'),\n",
       " Text(188.22857142857143, 181.2, 'X[1] <= 26.5\\ngini = 0.32\\nsamples = 5\\nvalue = [1, 4]'),\n",
       " Text(182.05714285714288, 157.04000000000002, 'gini = 0.444\\nsamples = 3\\nvalue = [1, 2]'),\n",
       " Text(194.4, 157.04000000000002, 'gini = 0.0\\nsamples = 2\\nvalue = [0, 2]'),\n",
       " Text(212.9142857142857, 181.2, 'X[1] <= 28.5\\ngini = 0.491\\nsamples = 37\\nvalue = [16, 21]'),\n",
       " Text(206.74285714285716, 157.04000000000002, 'gini = 0.0\\nsamples = 2\\nvalue = [2, 0]'),\n",
       " Text(219.0857142857143, 157.04000000000002, 'X[1] <= 29.35\\ngini = 0.48\\nsamples = 35\\nvalue = [14, 21]'),\n",
       " Text(212.9142857142857, 132.88, 'gini = 0.5\\nsamples = 2\\nvalue = [1, 1]'),\n",
       " Text(225.25714285714287, 132.88, 'gini = 0.478\\nsamples = 33\\nvalue = [13, 20]'),\n",
       " Text(268.45714285714286, 253.68, 'X[1] <= 37.5\\ngini = 0.486\\nsamples = 12\\nvalue = [7, 5]'),\n",
       " Text(262.2857142857143, 229.51999999999998, 'X[1] <= 35.0\\ngini = 0.463\\nsamples = 11\\nvalue = [7, 4]'),\n",
       " Text(256.1142857142857, 205.35999999999999, 'X[1] <= 32.5\\ngini = 0.48\\nsamples = 10\\nvalue = [6, 4]'),\n",
       " Text(249.94285714285715, 181.2, 'X[1] <= 31.5\\ngini = 0.444\\nsamples = 9\\nvalue = [6, 3]'),\n",
       " Text(243.77142857142857, 157.04000000000002, 'X[1] <= 30.75\\ngini = 0.469\\nsamples = 8\\nvalue = [5, 3]'),\n",
       " Text(237.60000000000002, 132.88, 'X[1] <= 30.25\\ngini = 0.375\\nsamples = 4\\nvalue = [3, 1]'),\n",
       " Text(231.42857142857144, 108.71999999999997, 'gini = 0.444\\nsamples = 3\\nvalue = [2, 1]'),\n",
       " Text(243.77142857142857, 108.71999999999997, 'gini = 0.0\\nsamples = 1\\nvalue = [1, 0]'),\n",
       " Text(249.94285714285715, 132.88, 'gini = 0.5\\nsamples = 4\\nvalue = [2, 2]'),\n",
       " Text(256.1142857142857, 157.04000000000002, 'gini = 0.0\\nsamples = 1\\nvalue = [1, 0]'),\n",
       " Text(262.2857142857143, 181.2, 'gini = 0.0\\nsamples = 1\\nvalue = [0, 1]'),\n",
       " Text(268.45714285714286, 205.35999999999999, 'gini = 0.0\\nsamples = 1\\nvalue = [1, 0]'),\n",
       " Text(274.62857142857143, 229.51999999999998, 'gini = 0.0\\nsamples = 1\\nvalue = [0, 1]'),\n",
       " Text(195.17142857142858, 350.32, 'X[1] <= 55.5\\ngini = 0.165\\nsamples = 11\\nvalue = [10, 1]'),\n",
       " Text(189.0, 326.15999999999997, 'gini = 0.0\\nsamples = 10\\nvalue = [10, 0]'),\n",
       " Text(201.34285714285716, 326.15999999999997, 'gini = 0.0\\nsamples = 1\\nvalue = [0, 1]'),\n",
       " Text(400.95000000000005, 398.64, 'X[2] <= 1.5\\ngini = 0.304\\nsamples = 466\\nvalue = [379, 87]'),\n",
       " Text(320.7214285714286, 374.48, 'X[1] <= 17.5\\ngini = 0.489\\nsamples = 94\\nvalue = [54, 40]'),\n",
       " Text(314.55, 350.32, 'gini = 0.0\\nsamples = 3\\nvalue = [0, 3]'),\n",
       " Text(326.89285714285717, 350.32, 'X[1] <= 22.0\\ngini = 0.483\\nsamples = 91\\nvalue = [54, 37]'),\n",
       " Text(320.7214285714286, 326.15999999999997, 'gini = 0.0\\nsamples = 4\\nvalue = [4, 0]'),\n",
       " Text(333.06428571428575, 326.15999999999997, 'X[1] <= 27.5\\ngini = 0.489\\nsamples = 87\\nvalue = [50, 37]'),\n",
       " Text(293.14285714285717, 302.0, 'X[1] <= 24.5\\ngini = 0.245\\nsamples = 7\\nvalue = [1, 6]'),\n",
       " Text(286.9714285714286, 277.84000000000003, 'X[1] <= 23.5\\ngini = 0.5\\nsamples = 2\\nvalue = [1, 1]'),\n",
       " Text(280.8, 253.68, 'gini = 0.0\\nsamples = 1\\nvalue = [0, 1]'),\n",
       " Text(293.14285714285717, 253.68, 'gini = 0.0\\nsamples = 1\\nvalue = [1, 0]'),\n",
       " Text(299.31428571428575, 277.84000000000003, 'gini = 0.0\\nsamples = 5\\nvalue = [0, 5]'),\n",
       " Text(372.9857142857143, 302.0, 'X[1] <= 53.0\\ngini = 0.475\\nsamples = 80\\nvalue = [49, 31]'),\n",
       " Text(329.40000000000003, 277.84000000000003, 'X[1] <= 31.5\\ngini = 0.489\\nsamples = 66\\nvalue = [38, 28]'),\n",
       " Text(305.4857142857143, 253.68, 'X[1] <= 28.5\\ngini = 0.403\\nsamples = 25\\nvalue = [18, 7]'),\n",
       " Text(299.31428571428575, 229.51999999999998, 'gini = 0.5\\nsamples = 2\\nvalue = [1, 1]'),\n",
       " Text(311.65714285714284, 229.51999999999998, 'X[1] <= 29.35\\ngini = 0.386\\nsamples = 23\\nvalue = [17, 6]'),\n",
       " Text(305.4857142857143, 205.35999999999999, 'gini = 0.0\\nsamples = 1\\nvalue = [1, 0]'),\n",
       " Text(317.8285714285714, 205.35999999999999, 'X[1] <= 30.5\\ngini = 0.397\\nsamples = 22\\nvalue = [16, 6]'),\n",
       " Text(311.65714285714284, 181.2, 'X[1] <= 29.85\\ngini = 0.388\\nsamples = 19\\nvalue = [14, 5]'),\n",
       " Text(305.4857142857143, 157.04000000000002, 'gini = 0.401\\nsamples = 18\\nvalue = [13, 5]'),\n",
       " Text(317.8285714285714, 157.04000000000002, 'gini = 0.0\\nsamples = 1\\nvalue = [1, 0]'),\n",
       " Text(324.0, 181.2, 'gini = 0.444\\nsamples = 3\\nvalue = [2, 1]'),\n",
       " Text(353.31428571428575, 253.68, 'X[1] <= 36.5\\ngini = 0.5\\nsamples = 41\\nvalue = [20, 21]'),\n",
       " Text(336.34285714285716, 229.51999999999998, 'X[1] <= 35.5\\ngini = 0.18\\nsamples = 10\\nvalue = [1, 9]'),\n",
       " Text(330.1714285714286, 205.35999999999999, 'gini = 0.0\\nsamples = 5\\nvalue = [0, 5]'),\n",
       " Text(342.51428571428573, 205.35999999999999, 'gini = 0.32\\nsamples = 5\\nvalue = [1, 4]'),\n",
       " Text(370.2857142857143, 229.51999999999998, 'X[1] <= 47.5\\ngini = 0.475\\nsamples = 31\\nvalue = [19, 12]'),\n",
       " Text(354.8571428571429, 205.35999999999999, 'X[1] <= 43.0\\ngini = 0.388\\nsamples = 19\\nvalue = [14, 5]'),\n",
       " Text(342.51428571428573, 181.2, 'X[1] <= 41.0\\ngini = 0.48\\nsamples = 10\\nvalue = [6, 4]'),\n",
       " Text(336.34285714285716, 157.04000000000002, 'X[1] <= 39.5\\ngini = 0.444\\nsamples = 9\\nvalue = [6, 3]'),\n",
       " Text(330.1714285714286, 132.88, 'X[1] <= 38.5\\ngini = 0.408\\nsamples = 7\\nvalue = [5, 2]'),\n",
       " Text(324.0, 108.71999999999997, 'X[1] <= 37.5\\ngini = 0.444\\nsamples = 6\\nvalue = [4, 2]'),\n",
       " Text(317.8285714285714, 84.56, 'gini = 0.444\\nsamples = 3\\nvalue = [2, 1]'),\n",
       " Text(330.1714285714286, 84.56, 'gini = 0.444\\nsamples = 3\\nvalue = [2, 1]'),\n",
       " Text(336.34285714285716, 108.71999999999997, 'gini = 0.0\\nsamples = 1\\nvalue = [1, 0]'),\n",
       " Text(342.51428571428573, 132.88, 'gini = 0.5\\nsamples = 2\\nvalue = [1, 1]'),\n",
       " Text(348.6857142857143, 157.04000000000002, 'gini = 0.0\\nsamples = 1\\nvalue = [0, 1]'),\n",
       " Text(367.2, 181.2, 'X[1] <= 45.5\\ngini = 0.198\\nsamples = 9\\nvalue = [8, 1]'),\n",
       " Text(361.02857142857147, 157.04000000000002, 'X[1] <= 44.5\\ngini = 0.32\\nsamples = 5\\nvalue = [4, 1]'),\n",
       " Text(354.8571428571429, 132.88, 'gini = 0.0\\nsamples = 1\\nvalue = [1, 0]'),\n",
       " Text(367.2, 132.88, 'gini = 0.375\\nsamples = 4\\nvalue = [3, 1]'),\n",
       " Text(373.37142857142857, 157.04000000000002, 'gini = 0.0\\nsamples = 4\\nvalue = [4, 0]'),\n",
       " Text(385.7142857142857, 205.35999999999999, 'X[1] <= 48.5\\ngini = 0.486\\nsamples = 12\\nvalue = [5, 7]'),\n",
       " Text(379.54285714285714, 181.2, 'gini = 0.0\\nsamples = 2\\nvalue = [0, 2]'),\n",
       " Text(391.8857142857143, 181.2, 'X[1] <= 49.5\\ngini = 0.5\\nsamples = 10\\nvalue = [5, 5]'),\n",
       " Text(385.7142857142857, 157.04000000000002, 'gini = 0.444\\nsamples = 3\\nvalue = [1, 2]'),\n",
       " Text(398.0571428571429, 157.04000000000002, 'X[1] <= 50.5\\ngini = 0.49\\nsamples = 7\\nvalue = [4, 3]'),\n",
       " Text(391.8857142857143, 132.88, 'gini = 0.444\\nsamples = 3\\nvalue = [2, 1]'),\n",
       " Text(404.22857142857146, 132.88, 'X[1] <= 51.5\\ngini = 0.5\\nsamples = 4\\nvalue = [2, 2]'),\n",
       " Text(398.0571428571429, 108.71999999999997, 'gini = 0.5\\nsamples = 2\\nvalue = [1, 1]'),\n",
       " Text(410.40000000000003, 108.71999999999997, 'gini = 0.5\\nsamples = 2\\nvalue = [1, 1]'),\n",
       " Text(416.5714285714286, 277.84000000000003, 'X[1] <= 75.5\\ngini = 0.337\\nsamples = 14\\nvalue = [11, 3]'),\n",
       " Text(410.40000000000003, 253.68, 'X[1] <= 60.5\\ngini = 0.26\\nsamples = 13\\nvalue = [11, 2]'),\n",
       " Text(404.22857142857146, 229.51999999999998, 'X[1] <= 55.5\\ngini = 0.408\\nsamples = 7\\nvalue = [5, 2]'),\n",
       " Text(398.0571428571429, 205.35999999999999, 'gini = 0.0\\nsamples = 2\\nvalue = [2, 0]'),\n",
       " Text(410.40000000000003, 205.35999999999999, 'X[1] <= 57.0\\ngini = 0.48\\nsamples = 5\\nvalue = [3, 2]'),\n",
       " Text(404.22857142857146, 181.2, 'gini = 0.5\\nsamples = 2\\nvalue = [1, 1]'),\n",
       " Text(416.5714285714286, 181.2, 'X[1] <= 59.0\\ngini = 0.444\\nsamples = 3\\nvalue = [2, 1]'),\n",
       " Text(410.40000000000003, 157.04000000000002, 'gini = 0.0\\nsamples = 1\\nvalue = [1, 0]'),\n",
       " Text(422.7428571428572, 157.04000000000002, 'gini = 0.5\\nsamples = 2\\nvalue = [1, 1]'),\n",
       " Text(416.5714285714286, 229.51999999999998, 'gini = 0.0\\nsamples = 6\\nvalue = [6, 0]'),\n",
       " Text(422.7428571428572, 253.68, 'gini = 0.0\\nsamples = 1\\nvalue = [0, 1]'),\n",
       " Text(481.17857142857144, 374.48, 'X[1] <= 3.5\\ngini = 0.221\\nsamples = 372\\nvalue = [325, 47]'),\n",
       " Text(435.0857142857143, 350.32, 'X[2] <= 2.5\\ngini = 0.444\\nsamples = 15\\nvalue = [5, 10]'),\n",
       " Text(428.9142857142857, 326.15999999999997, 'gini = 0.0\\nsamples = 6\\nvalue = [0, 6]'),\n",
       " Text(441.25714285714287, 326.15999999999997, 'X[1] <= 2.5\\ngini = 0.494\\nsamples = 9\\nvalue = [5, 4]'),\n",
       " Text(435.0857142857143, 302.0, 'X[1] <= 0.71\\ngini = 0.408\\nsamples = 7\\nvalue = [5, 2]'),\n",
       " Text(428.9142857142857, 277.84000000000003, 'gini = 0.0\\nsamples = 1\\nvalue = [0, 1]'),\n",
       " Text(441.25714285714287, 277.84000000000003, 'X[1] <= 1.5\\ngini = 0.278\\nsamples = 6\\nvalue = [5, 1]'),\n",
       " Text(435.0857142857143, 253.68, 'gini = 0.444\\nsamples = 3\\nvalue = [2, 1]'),\n",
       " Text(447.42857142857144, 253.68, 'gini = 0.0\\nsamples = 3\\nvalue = [3, 0]'),\n",
       " Text(447.42857142857144, 302.0, 'gini = 0.0\\nsamples = 2\\nvalue = [0, 2]'),\n",
       " Text(527.2714285714286, 350.32, 'X[1] <= 13.0\\ngini = 0.186\\nsamples = 357\\nvalue = [320, 37]'),\n",
       " Text(465.9428571428572, 326.15999999999997, 'X[1] <= 11.5\\ngini = 0.391\\nsamples = 15\\nvalue = [11, 4]'),\n",
       " Text(459.7714285714286, 302.0, 'X[2] <= 2.5\\ngini = 0.337\\nsamples = 14\\nvalue = [11, 3]'),\n",
       " Text(453.6, 277.84000000000003, 'gini = 0.0\\nsamples = 1\\nvalue = [0, 1]'),\n",
       " Text(465.9428571428572, 277.84000000000003, 'X[1] <= 5.0\\ngini = 0.26\\nsamples = 13\\nvalue = [11, 2]'),\n",
       " Text(459.7714285714286, 253.68, 'gini = 0.0\\nsamples = 3\\nvalue = [3, 0]'),\n",
       " Text(472.11428571428576, 253.68, 'X[1] <= 6.5\\ngini = 0.32\\nsamples = 10\\nvalue = [8, 2]'),\n",
       " Text(465.9428571428572, 229.51999999999998, 'gini = 0.0\\nsamples = 1\\nvalue = [0, 1]'),\n",
       " Text(478.28571428571433, 229.51999999999998, 'X[1] <= 8.5\\ngini = 0.198\\nsamples = 9\\nvalue = [8, 1]'),\n",
       " Text(472.11428571428576, 205.35999999999999, 'gini = 0.0\\nsamples = 3\\nvalue = [3, 0]'),\n",
       " Text(484.45714285714286, 205.35999999999999, 'X[1] <= 9.5\\ngini = 0.278\\nsamples = 6\\nvalue = [5, 1]'),\n",
       " Text(478.28571428571433, 181.2, 'gini = 0.444\\nsamples = 3\\nvalue = [2, 1]'),\n",
       " Text(490.62857142857143, 181.2, 'gini = 0.0\\nsamples = 3\\nvalue = [3, 0]'),\n",
       " Text(472.11428571428576, 302.0, 'gini = 0.0\\nsamples = 1\\nvalue = [0, 1]'),\n",
       " Text(588.6, 326.15999999999997, 'X[1] <= 18.5\\ngini = 0.174\\nsamples = 342\\nvalue = [309, 33]'),\n",
       " Text(582.4285714285714, 302.0, 'gini = 0.0\\nsamples = 26\\nvalue = [26, 0]'),\n",
       " Text(594.7714285714286, 302.0, 'X[1] <= 32.25\\ngini = 0.187\\nsamples = 316\\nvalue = [283, 33]'),\n",
       " Text(556.9714285714286, 277.84000000000003, 'X[1] <= 30.75\\ngini = 0.213\\nsamples = 231\\nvalue = [203, 28]'),\n",
       " Text(524.5714285714286, 253.68, 'X[1] <= 29.35\\ngini = 0.185\\nsamples = 213\\nvalue = [191, 22]'),\n",
       " Text(502.9714285714286, 229.51999999999998, 'X[2] <= 2.5\\ngini = 0.22\\nsamples = 119\\nvalue = [104, 15]'),\n",
       " Text(496.8, 205.35999999999999, 'gini = 0.0\\nsamples = 28\\nvalue = [28, 0]'),\n",
       " Text(509.14285714285717, 205.35999999999999, 'X[1] <= 28.75\\ngini = 0.275\\nsamples = 91\\nvalue = [76, 15]'),\n",
       " Text(502.9714285714286, 181.2, 'X[1] <= 27.5\\ngini = 0.247\\nsamples = 83\\nvalue = [71, 12]'),\n",
       " Text(496.8, 157.04000000000002, 'X[1] <= 26.5\\ngini = 0.269\\nsamples = 75\\nvalue = [63, 12]'),\n",
       " Text(490.62857142857143, 132.88, 'X[1] <= 20.25\\ngini = 0.242\\nsamples = 71\\nvalue = [61, 10]'),\n",
       " Text(472.11428571428576, 108.71999999999997, 'X[1] <= 19.5\\ngini = 0.32\\nsamples = 20\\nvalue = [16, 4]'),\n",
       " Text(465.9428571428572, 84.56, 'gini = 0.198\\nsamples = 9\\nvalue = [8, 1]'),\n",
       " Text(478.28571428571433, 84.56, 'gini = 0.397\\nsamples = 11\\nvalue = [8, 3]'),\n",
       " Text(509.14285714285717, 108.71999999999997, 'X[1] <= 23.5\\ngini = 0.208\\nsamples = 51\\nvalue = [45, 6]'),\n",
       " Text(490.62857142857143, 84.56, 'X[1] <= 22.5\\ngini = 0.153\\nsamples = 24\\nvalue = [22, 2]'),\n",
       " Text(484.45714285714286, 60.39999999999998, 'X[1] <= 20.75\\ngini = 0.172\\nsamples = 21\\nvalue = [19, 2]'),\n",
       " Text(478.28571428571433, 36.24000000000001, 'gini = 0.0\\nsamples = 1\\nvalue = [1, 0]'),\n",
       " Text(490.62857142857143, 36.24000000000001, 'X[1] <= 21.5\\ngini = 0.18\\nsamples = 20\\nvalue = [18, 2]'),\n",
       " Text(484.45714285714286, 12.079999999999984, 'gini = 0.165\\nsamples = 11\\nvalue = [10, 1]'),\n",
       " Text(496.8, 12.079999999999984, 'gini = 0.198\\nsamples = 9\\nvalue = [8, 1]'),\n",
       " Text(496.8, 60.39999999999998, 'gini = 0.0\\nsamples = 3\\nvalue = [3, 0]'),\n",
       " Text(527.6571428571428, 84.56, 'X[1] <= 25.5\\ngini = 0.252\\nsamples = 27\\nvalue = [23, 4]'),\n",
       " Text(521.4857142857143, 60.39999999999998, 'X[1] <= 24.75\\ngini = 0.278\\nsamples = 18\\nvalue = [15, 3]'),\n",
       " Text(515.3142857142857, 36.24000000000001, 'X[1] <= 24.25\\ngini = 0.219\\nsamples = 8\\nvalue = [7, 1]'),\n",
       " Text(509.14285714285717, 12.079999999999984, 'gini = 0.245\\nsamples = 7\\nvalue = [6, 1]'),\n",
       " Text(521.4857142857143, 12.079999999999984, 'gini = 0.0\\nsamples = 1\\nvalue = [1, 0]'),\n",
       " Text(527.6571428571428, 36.24000000000001, 'gini = 0.32\\nsamples = 10\\nvalue = [8, 2]'),\n",
       " Text(533.8285714285714, 60.39999999999998, 'gini = 0.198\\nsamples = 9\\nvalue = [8, 1]'),\n",
       " Text(502.9714285714286, 132.88, 'gini = 0.5\\nsamples = 4\\nvalue = [2, 2]'),\n",
       " Text(509.14285714285717, 157.04000000000002, 'gini = 0.0\\nsamples = 8\\nvalue = [8, 0]'),\n",
       " Text(515.3142857142857, 181.2, 'gini = 0.469\\nsamples = 8\\nvalue = [5, 3]'),\n",
       " Text(546.1714285714286, 229.51999999999998, 'X[2] <= 2.5\\ngini = 0.138\\nsamples = 94\\nvalue = [87, 7]'),\n",
       " Text(533.8285714285714, 205.35999999999999, 'X[1] <= 29.85\\ngini = 0.32\\nsamples = 10\\nvalue = [8, 2]'),\n",
       " Text(527.6571428571428, 181.2, 'gini = 0.444\\nsamples = 6\\nvalue = [4, 2]'),\n",
       " Text(540.0, 181.2, 'gini = 0.0\\nsamples = 4\\nvalue = [4, 0]'),\n",
       " Text(558.5142857142857, 205.35999999999999, 'X[1] <= 29.85\\ngini = 0.112\\nsamples = 84\\nvalue = [79, 5]'),\n",
       " Text(552.3428571428572, 181.2, 'gini = 0.101\\nsamples = 75\\nvalue = [71, 4]'),\n",
       " Text(564.6857142857143, 181.2, 'X[1] <= 30.25\\ngini = 0.198\\nsamples = 9\\nvalue = [8, 1]'),\n",
       " Text(558.5142857142857, 157.04000000000002, 'gini = 0.219\\nsamples = 8\\nvalue = [7, 1]'),\n",
       " Text(570.8571428571429, 157.04000000000002, 'gini = 0.0\\nsamples = 1\\nvalue = [1, 0]'),\n",
       " Text(589.3714285714286, 253.68, 'X[1] <= 31.5\\ngini = 0.444\\nsamples = 18\\nvalue = [12, 6]'),\n",
       " Text(577.0285714285715, 229.51999999999998, 'X[2] <= 2.5\\ngini = 0.408\\nsamples = 7\\nvalue = [5, 2]'),\n",
       " Text(570.8571428571429, 205.35999999999999, 'gini = 0.375\\nsamples = 4\\nvalue = [3, 1]'),\n",
       " Text(583.2, 205.35999999999999, 'gini = 0.444\\nsamples = 3\\nvalue = [2, 1]'),\n",
       " Text(601.7142857142858, 229.51999999999998, 'X[2] <= 2.5\\ngini = 0.463\\nsamples = 11\\nvalue = [7, 4]'),\n",
       " Text(595.5428571428572, 205.35999999999999, 'gini = 0.444\\nsamples = 3\\nvalue = [2, 1]'),\n",
       " Text(607.8857142857144, 205.35999999999999, 'gini = 0.469\\nsamples = 8\\nvalue = [5, 3]'),\n",
       " Text(632.5714285714286, 277.84000000000003, 'X[1] <= 38.5\\ngini = 0.111\\nsamples = 85\\nvalue = [80, 5]'),\n",
       " Text(626.4, 253.68, 'gini = 0.0\\nsamples = 34\\nvalue = [34, 0]'),\n",
       " Text(638.7428571428571, 253.68, 'X[1] <= 45.5\\ngini = 0.177\\nsamples = 51\\nvalue = [46, 5]'),\n",
       " Text(626.4, 229.51999999999998, 'X[1] <= 44.5\\ngini = 0.252\\nsamples = 27\\nvalue = [23, 4]'),\n",
       " Text(620.2285714285715, 205.35999999999999, 'X[1] <= 39.5\\ngini = 0.211\\nsamples = 25\\nvalue = [22, 3]'),\n",
       " Text(604.8000000000001, 181.2, 'X[2] <= 2.5\\ngini = 0.32\\nsamples = 5\\nvalue = [4, 1]'),\n",
       " Text(598.6285714285715, 157.04000000000002, 'gini = 0.0\\nsamples = 3\\nvalue = [3, 0]'),\n",
       " Text(610.9714285714286, 157.04000000000002, 'gini = 0.5\\nsamples = 2\\nvalue = [1, 1]'),\n",
       " Text(635.6571428571428, 181.2, 'X[1] <= 43.5\\ngini = 0.18\\nsamples = 20\\nvalue = [18, 2]'),\n",
       " Text(623.3142857142857, 157.04000000000002, 'X[2] <= 2.5\\ngini = 0.124\\nsamples = 15\\nvalue = [14, 1]'),\n",
       " Text(617.1428571428572, 132.88, 'X[1] <= 42.5\\ngini = 0.375\\nsamples = 4\\nvalue = [3, 1]'),\n",
       " Text(610.9714285714286, 108.71999999999997, 'gini = 0.444\\nsamples = 3\\nvalue = [2, 1]'),\n",
       " Text(623.3142857142857, 108.71999999999997, 'gini = 0.0\\nsamples = 1\\nvalue = [1, 0]'),\n",
       " Text(629.4857142857143, 132.88, 'gini = 0.0\\nsamples = 11\\nvalue = [11, 0]'),\n",
       " Text(648.0, 157.04000000000002, 'X[2] <= 2.5\\ngini = 0.32\\nsamples = 5\\nvalue = [4, 1]'),\n",
       " Text(641.8285714285714, 132.88, 'gini = 0.0\\nsamples = 1\\nvalue = [1, 0]'),\n",
       " Text(654.1714285714286, 132.88, 'gini = 0.375\\nsamples = 4\\nvalue = [3, 1]'),\n",
       " Text(632.5714285714286, 205.35999999999999, 'gini = 0.5\\nsamples = 2\\nvalue = [1, 1]'),\n",
       " Text(651.0857142857143, 229.51999999999998, 'X[1] <= 61.5\\ngini = 0.08\\nsamples = 24\\nvalue = [23, 1]'),\n",
       " Text(644.9142857142857, 205.35999999999999, 'gini = 0.0\\nsamples = 20\\nvalue = [20, 0]'),\n",
       " Text(657.2571428571429, 205.35999999999999, 'X[1] <= 64.0\\ngini = 0.375\\nsamples = 4\\nvalue = [3, 1]'),\n",
       " Text(651.0857142857143, 181.2, 'gini = 0.0\\nsamples = 1\\nvalue = [0, 1]'),\n",
       " Text(663.4285714285714, 181.2, 'gini = 0.0\\nsamples = 3\\nvalue = [3, 0]')]"
      ]
     },
     "execution_count": 68,
     "metadata": {},
     "output_type": "execute_result"
    },
    {
     "data": {
      "image/png": "[encoded data removed]",
      "text/plain": [
       "<Figure size 864x576 with 1 Axes>"
      ]
     },
     "metadata": {
      "needs_background": "light"
     },
     "output_type": "display_data"
    }
   ],
   "source": [
    "plt.figure(figsize=(12,8))\n",
    "tree.plot_tree(clf)"
   ]
  },
  {
   "cell_type": "markdown",
   "metadata": {},
   "source": [
    "### Evaluation"
   ]
  },
  {
   "cell_type": "code",
   "execution_count": 70,
   "metadata": {},
   "outputs": [
    {
     "name": "stdout",
     "output_type": "stream",
     "text": [
      "0.7640449438202247\n"
     ]
    }
   ],
   "source": [
    "Y_pred = clf.predict(X_test)\n",
    "print( accuracy_score(Y_pred,y_test))"
   ]
  },
  {
   "cell_type": "markdown",
   "metadata": {},
   "source": [
    "### Change parameters"
   ]
  },
  {
   "cell_type": "code",
   "execution_count": 71,
   "metadata": {},
   "outputs": [],
   "source": [
    "clf1 = tree.DecisionTreeClassifier(criterion=\"gini\",splitter='random',max_leaf_nodes=47,min_samples_leaf=6,max_depth=4)\n",
    "clf1 = clf1.fit(X_train,y_train)"
   ]
  },
  {
   "cell_type": "code",
   "execution_count": 72,
   "metadata": {},
   "outputs": [
    {
     "name": "stdout",
     "output_type": "stream",
     "text": [
      "0.7471910112359551\n"
     ]
    }
   ],
   "source": [
    "y_pred1 = clf1.predict(X_test)\n",
    "print( accuracy_score(y_pred1,y_test))"
   ]
  },
  {
   "cell_type": "code",
   "execution_count": 95,
   "metadata": {},
   "outputs": [
    {
     "name": "stdout",
     "output_type": "stream",
     "text": [
      "Tree accuracy without changing parameters :  0.7640449438202247\n",
      "Tree acccuracy after changing parameters :  0.7471910112359551\n"
     ]
    }
   ],
   "source": [
    "print( \"Tree accuracy without changing parameters : \",metrics.accuracy_score(Y_pred,y_test))\n",
    "print(\"Tree acccuracy after changing parameters : \" ,metrics.accuracy_score(y_pred1,y_test))"
   ]
  },
  {
   "cell_type": "markdown",
   "metadata": {},
   "source": [
    "# Random Forest Classifier"
   ]
  },
  {
   "cell_type": "code",
   "execution_count": 74,
   "metadata": {},
   "outputs": [],
   "source": [
    "from sklearn.ensemble import RandomForestClassifier\n",
    "forest = RandomForestClassifier(n_estimators=550)\n",
    "forest = forest.fit(X_train,y_train)"
   ]
  },
  {
   "cell_type": "code",
   "execution_count": 75,
   "metadata": {},
   "outputs": [
    {
     "name": "stdout",
     "output_type": "stream",
     "text": [
      "Accuracy:  0.7640449438202247\n"
     ]
    }
   ],
   "source": [
    "forest_pred = forest.predict(X_test)\n",
    "print('Accuracy: ',metrics.accuracy_score(y_test,forest_pred))"
   ]
  },
  {
   "cell_type": "code",
   "execution_count": 96,
   "metadata": {},
   "outputs": [
    {
     "name": "stdout",
     "output_type": "stream",
     "text": [
      "Tree accuracy without changing parameters :  0.7640449438202247\n",
      "Tree acccuracy after changing parameters :  0.7471910112359551\n",
      "Random Forest accuracy :  0.7640449438202247\n"
     ]
    }
   ],
   "source": [
    "print( \"Tree accuracy without changing parameters : \",metrics.accuracy_score(Y_pred,y_test))\n",
    "print(\"Tree acccuracy after changing parameters : \" ,metrics.accuracy_score(y_pred1,y_test))\n",
    "print(\"Random Forest accuracy : \",metrics.accuracy_score(forest_pred,y_test))"
   ]
  },
  {
   "cell_type": "markdown",
   "metadata": {},
   "source": [
    "### Change n_estimators"
   ]
  },
  {
   "cell_type": "code",
   "execution_count": 77,
   "metadata": {},
   "outputs": [],
   "source": [
    "forest2 = RandomForestClassifier(n_estimators=100)\n",
    "forest2 = forest2.fit(X_train,y_train)"
   ]
  },
  {
   "cell_type": "code",
   "execution_count": 97,
   "metadata": {},
   "outputs": [
    {
     "name": "stdout",
     "output_type": "stream",
     "text": [
      "Random Forest accuracy with 550 estimators :  0.7640449438202247\n",
      "Random Forest accuracy with 100 estimators :  0.7752808988764045\n"
     ]
    }
   ],
   "source": [
    "forest_pred2 = forest2.predict(X_test)\n",
    "print(\"Random Forest accuracy with 550 estimators : \",metrics.accuracy_score(forest_pred,y_test))\n",
    "print('Random Forest accuracy with 100 estimators : ',metrics.accuracy_score(y_test,forest_pred2))"
   ]
  },
  {
   "cell_type": "code",
   "execution_count": 98,
   "metadata": {},
   "outputs": [
    {
     "name": "stdout",
     "output_type": "stream",
     "text": [
      "Tree accuracy without changing parameters :  0.7640449438202247\n",
      "Tree acccuracy after changing parameters :  0.7471910112359551\n",
      "Random Forest accuracy with 100 estimators :  0.7752808988764045\n"
     ]
    }
   ],
   "source": [
    "print( \"Tree accuracy without changing parameters : \",metrics.accuracy_score(Y_pred,y_test))\n",
    "print(\"Tree acccuracy after changing parameters : \" ,metrics.accuracy_score(y_pred1,y_test))\n",
    "print('Random Forest accuracy with 100 estimators : ',metrics.accuracy_score(y_test,forest_pred2))"
   ]
  },
  {
   "cell_type": "markdown",
   "metadata": {},
   "source": [
    "# Random Forest Regressor"
   ]
  },
  {
   "cell_type": "code",
   "execution_count": 99,
   "metadata": {},
   "outputs": [
    {
     "data": {
      "text/plain": [
       "RandomForestRegressor(bootstrap=True, ccp_alpha=0.0, criterion='mse',\n",
       "                      max_depth=None, max_features='auto', max_leaf_nodes=None,\n",
       "                      max_samples=None, min_impurity_decrease=0.0,\n",
       "                      min_impurity_split=None, min_samples_leaf=1,\n",
       "                      min_samples_split=2, min_weight_fraction_leaf=0.0,\n",
       "                      n_estimators=500, n_jobs=None, oob_score=False,\n",
       "                      random_state=None, verbose=0, warm_start=False)"
      ]
     },
     "execution_count": 99,
     "metadata": {},
     "output_type": "execute_result"
    }
   ],
   "source": [
    "cls=RandomForestRegressor(n_estimators=500)\n",
    "cls.fit(X_train,y_train)"
   ]
  },
  {
   "cell_type": "code",
   "execution_count": 100,
   "metadata": {},
   "outputs": [
    {
     "name": "stdout",
     "output_type": "stream",
     "text": [
      "Accuracy: 0.7696629213483146\n"
     ]
    }
   ],
   "source": [
    "y_pred2=cls.predict(X_test)  #testing our model\n",
    "liste=y_pred2.tolist()\n",
    "liste=list(map(round,liste))\n",
    "y_pred2=np.array(liste)\n",
    "print(\"Accuracy:\", metrics.accuracy_score(y_test, y_pred2))  #Measuring the accuracy of our model"
   ]
  },
  {
   "cell_type": "markdown",
   "metadata": {},
   "source": [
    "### Change n_estimators"
   ]
  },
  {
   "cell_type": "code",
   "execution_count": 101,
   "metadata": {},
   "outputs": [
    {
     "data": {
      "text/plain": [
       "RandomForestRegressor(bootstrap=True, ccp_alpha=0.0, criterion='mse',\n",
       "                      max_depth=None, max_features='auto', max_leaf_nodes=None,\n",
       "                      max_samples=None, min_impurity_decrease=0.0,\n",
       "                      min_impurity_split=None, min_samples_leaf=1,\n",
       "                      min_samples_split=2, min_weight_fraction_leaf=0.0,\n",
       "                      n_estimators=550, n_jobs=None, oob_score=False,\n",
       "                      random_state=None, verbose=0, warm_start=False)"
      ]
     },
     "execution_count": 101,
     "metadata": {},
     "output_type": "execute_result"
    }
   ],
   "source": [
    "cls2=RandomForestRegressor(n_estimators=550)\n",
    "cls2.fit(X_train,y_train)"
   ]
  },
  {
   "cell_type": "code",
   "execution_count": 102,
   "metadata": {},
   "outputs": [
    {
     "name": "stdout",
     "output_type": "stream",
     "text": [
      "Accuracy: 0.7752808988764045\n"
     ]
    }
   ],
   "source": [
    "y_pred3=cls2.predict(X_test)  #testing our model\n",
    "liste=y_pred3.tolist()\n",
    "liste=list(map(round,liste))\n",
    "y_pred3=np.array(liste)\n",
    "print(\"Accuracy:\", metrics.accuracy_score(y_test, y_pred3))  #Measuring the accuracy of our model"
   ]
  },
  {
   "cell_type": "markdown",
   "metadata": {},
   "source": [
    "# Compare"
   ]
  },
  {
   "cell_type": "code",
   "execution_count": 103,
   "metadata": {},
   "outputs": [],
   "source": [
    "from sklearn.metrics import roc_curve, auc\n",
    "from sklearn.metrics import roc_auc_score"
   ]
  },
  {
   "cell_type": "code",
   "execution_count": 117,
   "metadata": {},
   "outputs": [],
   "source": [
    "probs=clf.predict(X_test)\n",
    "auc = roc_auc_score(y_test, probs)"
   ]
  },
  {
   "cell_type": "code",
   "execution_count": 118,
   "metadata": {},
   "outputs": [],
   "source": [
    "probs1=clf1.predict(X_test)\n",
    "auc1 = roc_auc_score(y_test, probs1)"
   ]
  },
  {
   "cell_type": "code",
   "execution_count": 119,
   "metadata": {},
   "outputs": [],
   "source": [
    "probs2=forest2.predict(X_test)\n",
    "auc2=roc_auc_score(y_test, probs2)"
   ]
  },
  {
   "cell_type": "code",
   "execution_count": 120,
   "metadata": {},
   "outputs": [
    {
     "name": "stdout",
     "output_type": "stream",
     "text": [
      "AUC :  0.7373776908023484\n",
      "AUC :  0.6938682322243966\n",
      "AUC :  0.753163731245923\n"
     ]
    }
   ],
   "source": [
    "print(\"AUC : \",auc)\n",
    "print(\"AUC : \",auc1)\n",
    "print(\"AUC : \",auc2)"
   ]
  },
  {
   "cell_type": "code",
   "execution_count": 116,
   "metadata": {},
   "outputs": [
    {
     "data": {
      "image/png": "[encoded data removed]",
      "text/plain": [
       "<Figure size 720x576 with 1 Axes>"
      ]
     },
     "metadata": {
      "needs_background": "light"
     },
     "output_type": "display_data"
    }
   ],
   "source": [
    "plt.figure(0,figsize=(10, 8)).clf()\n",
    "\n",
    "fpr, tpr, thresh = metrics.roc_curve(y_test, probs)\n",
    "auc = metrics.roc_auc_score(y_test, probs)\n",
    "plt.plot(fpr,tpr,label=\"Tree without changing parameters\",linestyle=':',color='darkred')\n",
    "\n",
    "fpr, tpr, thresh = metrics.roc_curve(y_test, probs1)\n",
    "auc = metrics.roc_auc_score(y_test, probs1)\n",
    "plt.plot(fpr,tpr,label=\"Tree after changing parameter\",linestyle='solid',color='black')\n",
    "\n",
    "fpr, tpr, thresh = metrics.roc_curve(y_test, probs2)\n",
    "auc = metrics.roc_auc_score(y_test, probs2)\n",
    "plt.plot(fpr,tpr,label=\"Random Forest with 100 estimators\",linestyle='dashdot',color='darkgreen')\n",
    "\n",
    "plt.xlabel('False Positive Rate')\n",
    "plt.ylabel('True Positive Rate')\n",
    "plt.title('Compraing Our Models With ROC')\n",
    "plt.plot([0, 1], [0, 1], color='darkblue', linestyle='--')\n",
    "\n",
    "plt.legend(loc=0);"
   ]
  },
  {
   "cell_type": "code",
   "execution_count": null,
   "metadata": {},
   "outputs": [],
   "source": []
  }
 ],
 "metadata": {
  "kernelspec": {
   "display_name": "Python 3",
   "language": "python",
   "name": "python3"
  },
  "language_info": {
   "codemirror_mode": {
    "name": "ipython",
    "version": 3
   },
   "file_extension": ".py",
   "mimetype": "text/x-python",
   "name": "python",
   "nbconvert_exporter": "python",
   "pygments_lexer": "ipython3",
   "version": "3.7.6"
  }
 },
 "nbformat": 4,
 "nbformat_minor": 4
}
